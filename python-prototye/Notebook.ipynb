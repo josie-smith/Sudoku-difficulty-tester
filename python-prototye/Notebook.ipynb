{
 "cells": [
  {
   "cell_type": "markdown",
   "id": "6faaf52f-71df-4c45-8cfa-36d1a0c6e6a5",
   "metadata": {},
   "source": [
    "# Definitons:\n",
    "- *Neighbours* of a cell are all cells that share a cellset with it.\n",
    "- The *intersection* of 0 cells are the cells that are neighbours to both.\n",
    "- A *link* for n is when n can only be in 0 cells in a cellset.\n",
    "- 0 cells are *doubly linked* if they are chained by 0 numbers.\n",
    "\n",
    "# Moves\n",
    "## Easy\n",
    "\n",
    "0. Naked single 0 -         There is only 0 option for a number in a particular cell. (look at row, column and box)\n",
    "0. Hidden single 0 -        A particular number only has one option in a row / column / box.\n",
    "\n",
    "0. Interactions 00 -        Get all possible places for a number in a particular primary cellset. If they all lie in another secondary cellset, use that to deduce things about the other cellsets of the same type as the primary.\n",
    "0. Similar to 0 -           If a particular number lies in 0 rows in 0 boxes of the same row, then the third box of that must have the number in the third row.\n",
    "\n",
    "## Medium\n",
    "\n",
    "0. Naked pairs 00 -         Get all options for all cells, then if there are 0 doubly linked cells (with exactly 0 options), then the other cells in that cellset cannot contain those numbers.\n",
    "0. Hidden pairs 00 -        Get all options for all cells. If there are 0 doubly linked cells, then there are no other options for those cells, and those numbers cannot be in other cells in the cellset.\n",
    "0. Naked subsets 00 -       Get all options for all cells, then if there are n cells in the same row, column or box that have the same n options, then the other cells in that cellset cannot contain those numbers.\n",
    "0. Hidden subsets 00 -      Get all options for all cells. If there is a cellset where n numbers can only be in n cells, then there are no other options for those cells, and those numbers cannot be in other cells in the cellset.\n",
    "\n",
    "00. X-wing 00 -             If there are 0 columns where an n-link, and those cells are in the same 0 rows, then no other cells in those rows can be that number.\n",
    "00. Mutant X-wing -         If there are 0 primary cellsets where a number only has 0 options, and those options are in the same 0 secondary cellsets, then no other cells in those secondary cellsets can be that number.\n",
    "\n",
    "## Hard\n",
    "\n",
    "00. Chained pairs (remote pair) 000 -     If there are some cells making a chain of double linked pairs using the same 0 numbers, then the intersection of the endpoints of the chain cannot have either of the options.\n",
    "\n",
    "00. Swordfish 00 -          Similar to X-wing, but any loop, not just a rectangle. All columns with only 0 options for a number - all corresponding rows must have the number in one of the columns.\n",
    "00. Forcing chain -         Find all cells with only 0 options. Pick one of these cells, choose an option for it, then fill in the other cells accordingly, keeping track of the result. Then choose the other option, and see if the result is the same for any cells.\n",
    "00. XY-wing 000 -           If there is \"root\" cell with 0 options a and b, and 0 other \"wing\" cells that share a cellset with it, with 0 options, ac and bc, then any cell that is in the intersection of a cellset of wing0 and a cellset of wing0 cannot be c. Could find all potential wings of each cell with 0 options.\n",
    "00. XYZ-wing 000 -          If there is \"root\" cell with 0 options abc, and 0 other \"wing\" cells that share a cellset with it, with 0 options, ac and bc, then any cell that is in the intersection of all 0 cannot be c. Could find all potential wings of each cell with 0 options.\n",
    "00. Colouring 000 -         Similar to forcing chain. If there is a chain of cells where each pair is the only pair in a cellset to contain a number. Then either all even links in the chain are that number, or all odd links. Check all pairs of different colours - intersections cannot be that number.\n",
    "00. Jellyfish 000 -         If there are a set of n rows that can only have a number in up to n columns, then the other rows cannot have the number in those columns.\n",
    "\n",
    "## Extreme\n",
    "\n",
    "00. Mutant swordfish 000 -  If n cellsets have a number in only n places, then the secondary cellsets are if these cells happen to fall into n other cellsets. Eg columns are primary and rows are secondary for a swordfish. Then that number in a secondary cellset that is not in a primary cellset can be removed.\n",
    "00. Multi-colouring 000 -   If you have 0 groups of colourings of the same number a0 a0 and b0 b0, then if all cells in a0 share cellsets with an element of b0, then intersections of an a0 and a b0 cannot be that number. In addition, if 0 cells in a0 share a cellset with b0 and b0, then a0 is not the number and all a0 are.\n",
    "00. Naked XY chain 000 -    If there is a chain of cells each with 0 options, where an option is shared between neighbouring cells and the ends of the chain share on option, then the intersection of the ends cannot contain that option.\n",
    "\n",
    "## Possible additions:\n",
    "- Finned X-wing http://www.sudokusnake.com/finnedxwings.php\n",
    "- Finned swordfish\n",
    "- wxyz-wings\n",
    "- Anything from the second row of advanced onwards.\n",
    "\n",
    "\n",
    "# Possible prototypes:\n",
    "- Count the number of \"moves\" available at each stage\n",
    "- Count how many of each difficulty of move are available at each step.\n",
    "- Calculate the hardest move in the \"easiest\" path through the solution tree.\n",
    "- Keep track of how much solid or induced data is used for a move.\n",
    "\n",
    "\n",
    "\n",
    "\n",
    "\n"
   ]
  },
  {
   "cell_type": "code",
   "execution_count": null,
   "id": "bf1ca434-ed80-48bb-b843-62e371b5c168",
   "metadata": {},
   "outputs": [],
   "source": [
    "%run sudoku.py\n",
    "# s = Sudoku([\n",
    "#     [1, 2, 3, 0, 0, 0, 0, 0, 0],\n",
    "#     [0, 0, 0, 0, 0, 0, 0, 0, 0],\n",
    "#     [0, 0, 0, 0, 0, 0, 0, 0, 0],\n",
    "#     [0, 0, 0, 0, 0, 0, 0, 0, 0],\n",
    "#     [0, 0, 0, 0, 0, 0, 0, 0, 0],\n",
    "#     [0, 0, 0, 0, 0, 0, 0, 0, 0],\n",
    "#     [0, 0, 0, 0, 0, 0, 0, 0, 0],\n",
    "#     [0, 0, 0, 0, 0, 0, 0, 0, 0],\n",
    "#     [0, 0, 0, 0, 0, 0, 0, 0, 0]\n",
    "# ])\n",
    "print(Sudoku.randomSolution())"
   ]
  },
  {
   "cell_type": "code",
   "execution_count": null,
   "id": "5681030f-c7ba-4129-bf78-2505c51ad964",
   "metadata": {},
   "outputs": [],
   "source": []
  },
  {
   "cell_type": "code",
   "execution_count": null,
   "id": "ed484322-4c5d-40a2-bddf-16d2d85a40c8",
   "metadata": {},
   "outputs": [],
   "source": []
  }
 ],
 "metadata": {
  "kernelspec": {
   "display_name": "Python 3 (ipykernel)",
   "language": "python",
   "name": "python3"
  },
  "language_info": {
   "codemirror_mode": {
    "name": "ipython",
    "version": 3
   },
   "file_extension": ".py",
   "mimetype": "text/x-python",
   "name": "python",
   "nbconvert_exporter": "python",
   "pygments_lexer": "ipython3",
   "version": "3.9.2"
  }
 },
 "nbformat": 4,
 "nbformat_minor": 5
}
